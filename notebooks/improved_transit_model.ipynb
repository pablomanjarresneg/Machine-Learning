{
 "cells": [
  {
   "cell_type": "code",
   "execution_count": null,
   "id": "d91905d9",
   "metadata": {},
   "outputs": [],
   "source": [
    "# Let's add a model with different class handling\n",
    "from sklearn.ensemble import RandomForestClassifier\n",
    "from sklearn.metrics import classification_report, confusion_matrix\n",
    "from imblearn.over_sampling import SMOTE\n",
    "import pandas as pd\n",
    "import numpy as np\n",
    "from sklearn.pipeline import Pipeline\n",
    "from sklearn.preprocessing import StandardScaler\n",
    "\n",
    "print(\"Original class distribution in training set:\")\n",
    "print(y_train.value_counts())\n",
    "\n",
    "# 1. Apply SMOTE (Synthetic Minority Over-sampling Technique)\n",
    "# This creates synthetic examples of the minority class\n",
    "smote = SMOTE(random_state=42)\n",
    "X_train_smote, y_train_smote = smote, y_train\n",
    "\n",
    "# Create a new model with different class_weight\n",
    "pipe_balanced = Pipeline([\n",
    "    (\"scaler\", StandardScaler()),  \n",
    "    (\"clf\", RandomForestClassifier(\n",
    "        n_estimators=100,\n",
    "        max_depth=4,        # Slightly deeper trees\n",
    "        min_samples_leaf=5, # Reduced from 10\n",
    "        min_samples_split=5,# Reduced from 10\n",
    "        class_weight={0: 1, 1: 5},  # Put 5x weight on transit class\n",
    "        random_state=42\n",
    "    ))\n",
    "])\n",
    "\n",
    "# Train and evaluate\n",
    "pipe_balanced.fit(X_train, y_train)\n",
    "y_pred_balanced = pipe_balanced.predict(X_test)\n",
    "\n",
    "print(\"\\nClassification Report with Transit-Weighted Model:\")\n",
    "print(classification_report(y_test, y_pred_balanced))\n",
    "\n",
    "# Show confusion matrix\n",
    "cm = confusion_matrix(y_test, y_pred_balanced)\n",
    "print(\"\\nConfusion Matrix:\")\n",
    "print(cm)\n",
    "\n",
    "# Calculate the actual number of transits detected\n",
    "print(f\"\\nTransits detected: {cm[1,1]} out of {sum(cm[1,:])} true transits\")\n",
    "print(f\"False transit alerts: {cm[0,1]} out of {sum(cm[0,:])} non-transit samples\")\n",
    "\n",
    "# Calculate precision for just the transit class\n",
    "transit_precision = cm[1,1] / (cm[1,1] + cm[0,1]) if (cm[1,1] + cm[0,1]) > 0 else 0\n",
    "print(f\"Transit detection precision: {transit_precision:.4f}\")"
   ]
  }
 ],
 "metadata": {
  "language_info": {
   "name": "python"
  }
 },
 "nbformat": 4,
 "nbformat_minor": 5
}
