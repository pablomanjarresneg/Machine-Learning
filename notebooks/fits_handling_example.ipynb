{
 "cells": [
  {
   "cell_type": "markdown",
   "id": "e8499b5a",
   "metadata": {},
   "source": [
    "# FITS File Handling Example\n",
    "\n",
    "This notebook demonstrates how to use the shared utilities to work with FITS files that contain different flux column names."
   ]
  },
  {
   "cell_type": "code",
   "execution_count": null,
   "id": "e2395ff2",
   "metadata": {},
   "outputs": [],
   "source": [
    "import sys\n",
    "import os\n",
    "import glob\n",
    "import numpy as np\n",
    "import pandas as pd\n",
    "import matplotlib.pyplot as plt\n",
    "\n",
    "# Add the project root to sys.path to import shared modules\n",
    "sys.path.append(\"..\")\n",
    "\n",
    "# Import shared utilities\n",
    "from shared.data_utils import load_flux_from_fits, normalize_flux, get_fits_header_info, list_fits_columns\n",
    "from shared.data_utils.data_processing import load_all_fits_files"
   ]
  },
  {
   "cell_type": "markdown",
   "id": "3adb0e7b",
   "metadata": {},
   "source": [
    "## 1. List Available FITS Files"
   ]
  },
  {
   "cell_type": "code",
   "execution_count": null,
   "id": "0b4efa38",
   "metadata": {},
   "outputs": [],
   "source": [
    "# Find all FITS files in the data directory\n",
    "fits_files = glob.glob(\"../data/**/*.fits\", recursive=True)\n",
    "print(f\"Found {len(fits_files)} FITS files\")\n",
    "\n",
    "# Display the first few\n",
    "for file in fits_files[:5]:\n",
    "    print(file)"
   ]
  },
  {
   "cell_type": "markdown",
   "id": "3c8aec08",
   "metadata": {},
   "source": [
    "## 2. Examine FITS File Columns\n",
    "\n",
    "Let's check what columns are available in a sample of files to see the different naming conventions."
   ]
  },
  {
   "cell_type": "code",
   "execution_count": null,
   "id": "32fa0d5d",
   "metadata": {},
   "outputs": [],
   "source": [
    "# Sample a few files\n",
    "sample_files = fits_files[:5] if len(fits_files) >= 5 else fits_files\n",
    "\n",
    "for file in sample_files:\n",
    "    columns = list_fits_columns(file)\n",
    "    print(f\"\\nFile: {os.path.basename(file)}\")\n",
    "    print(f\"Columns: {columns}\")\n",
    "    \n",
    "    # Check if it has PDCSAP_FLUX or just FLUX\n",
    "    has_pdcsap = 'PDCSAP_FLUX' in columns\n",
    "    has_flux = 'FLUX' in columns\n",
    "    \n",
    "    if has_pdcsap and has_flux:\n",
    "        print(\"  Has both PDCSAP_FLUX and FLUX columns\")\n",
    "    elif has_pdcsap:\n",
    "        print(\"  Has PDCSAP_FLUX column\")\n",
    "    elif has_flux:\n",
    "        print(\"  Has FLUX column only\")\n",
    "    else:\n",
    "        print(\"  No flux columns found\")"
   ]
  },
  {
   "cell_type": "markdown",
   "id": "d7b84b51",
   "metadata": {},
   "source": [
    "## 3. Load a Single FITS File with Flexible Column Handling"
   ]
  },
  {
   "cell_type": "code",
   "execution_count": null,
   "id": "13455b46",
   "metadata": {},
   "outputs": [],
   "source": [
    "# Choose one file from the list\n",
    "if fits_files:\n",
    "    file_path = fits_files[0]\n",
    "    \n",
    "    # Try to load with multiple column options\n",
    "    time, flux, quality, flux_column_used = load_flux_from_fits(\n",
    "        file_path,\n",
    "        flux_columns=['PDCSAP_FLUX', 'FLUX', 'SAP_FLUX']\n",
    "    )\n",
    "    \n",
    "    if time is not None and flux is not None:\n",
    "        print(f\"Successfully loaded {file_path}\")\n",
    "        print(f\"Used flux column: {flux_column_used}\")\n",
    "        print(f\"Number of data points: {len(time)}\")\n",
    "        \n",
    "        # Normalize the flux\n",
    "        flux_norm = normalize_flux(flux)\n",
    "        \n",
    "        # Plot the light curve\n",
    "        plt.figure(figsize=(12, 6))\n",
    "        plt.plot(time, flux_norm, '.', markersize=2)\n",
    "        plt.xlabel('Time (days)')\n",
    "        plt.ylabel(f'Normalized Flux ({flux_column_used})')\n",
    "        plt.title(f'Light Curve from {os.path.basename(file_path)}')\n",
    "        plt.show()\n",
    "    else:\n",
    "        print(f\"Failed to load {file_path}\")"
   ]
  },
  {
   "cell_type": "markdown",
   "id": "36901e9a",
   "metadata": {},
   "source": [
    "## 4. Load All FITS Files with Either Column Type"
   ]
  },
  {
   "cell_type": "code",
   "execution_count": null,
   "id": "2cf248f4",
   "metadata": {},
   "outputs": [],
   "source": [
    "# Load all FITS files in the data directory\n",
    "light_curves = load_all_fits_files(\"../data/**/*.fits\")\n",
    "print(f\"Successfully loaded {len(light_curves)} light curves\")\n",
    "\n",
    "# Count files by flux column type\n",
    "column_counts = {}\n",
    "for path, data in light_curves.items():\n",
    "    flux_column = data['flux_column_used']\n",
    "    column_counts[flux_column] = column_counts.get(flux_column, 0) + 1\n",
    "    \n",
    "print(\"\\nFlux column usage:\")\n",
    "for column, count in column_counts.items():\n",
    "    print(f\"  {column}: {count} files\")"
   ]
  },
  {
   "cell_type": "markdown",
   "id": "430ba130",
   "metadata": {},
   "source": [
    "## 5. Plot Examples of Both FITS Types"
   ]
  },
  {
   "cell_type": "code",
   "execution_count": null,
   "id": "929da9d4",
   "metadata": {},
   "outputs": [],
   "source": [
    "# Find examples of each flux column type\n",
    "pdcsap_example = None\n",
    "flux_example = None\n",
    "\n",
    "for path, data in light_curves.items():\n",
    "    if data['flux_column_used'] == 'PDCSAP_FLUX' and pdcsap_example is None:\n",
    "        pdcsap_example = path\n",
    "    elif data['flux_column_used'] == 'FLUX' and flux_example is None:\n",
    "        flux_example = path\n",
    "        \n",
    "    if pdcsap_example and flux_example:\n",
    "        break\n",
    "\n",
    "# Plot both examples side by side if available\n",
    "if pdcsap_example or flux_example:\n",
    "    fig, axes = plt.subplots(1, 2, figsize=(16, 6))\n",
    "    \n",
    "    if pdcsap_example:\n",
    "        data = light_curves[pdcsap_example]\n",
    "        axes[0].plot(data['time'], data['flux_norm'], '.', markersize=2)\n",
    "        axes[0].set_xlabel('Time (days)')\n",
    "        axes[0].set_ylabel('Normalized Flux')\n",
    "        axes[0].set_title(f'PDCSAP_FLUX Example: {os.path.basename(pdcsap_example)}')\n",
    "    else:\n",
    "        axes[0].text(0.5, 0.5, 'No PDCSAP_FLUX example found', \n",
    "                    ha='center', va='center', transform=axes[0].transAxes)\n",
    "        \n",
    "    if flux_example:\n",
    "        data = light_curves[flux_example]\n",
    "        axes[1].plot(data['time'], data['flux_norm'], '.', markersize=2)\n",
    "        axes[1].set_xlabel('Time (days)')\n",
    "        axes[1].set_ylabel('Normalized Flux')\n",
    "        axes[1].set_title(f'FLUX Example: {os.path.basename(flux_example)}')\n",
    "    else:\n",
    "        axes[1].text(0.5, 0.5, 'No FLUX example found', \n",
    "                   ha='center', va='center', transform=axes[1].transAxes)\n",
    "        \n",
    "    plt.tight_layout()\n",
    "    plt.show()"
   ]
  },
  {
   "cell_type": "markdown",
   "id": "22c58f9b",
   "metadata": {},
   "source": [
    "## 6. Display Metadata Information"
   ]
  },
  {
   "cell_type": "code",
   "execution_count": null,
   "id": "73cd1681",
   "metadata": {},
   "outputs": [],
   "source": [
    "# Display metadata for a few examples\n",
    "for i, (path, data) in enumerate(list(light_curves.items())[:3]):\n",
    "    print(f\"\\nFile {i+1}: {os.path.basename(path)}\")\n",
    "    print(f\"Flux column: {data['flux_column_used']}\")\n",
    "    print(\"Metadata:\")\n",
    "    for key, value in data['metadata'].items():\n",
    "        print(f\"  {key}: {value}\")"
   ]
  },
  {
   "cell_type": "markdown",
   "id": "1c57b840",
   "metadata": {},
   "source": [
    "## 7. Conclusion\n",
    "\n",
    "This notebook demonstrates how to use the shared utilities to handle FITS files with different flux column naming conventions. The key features include:\n",
    "\n",
    "1. Automatically detecting and using either `PDCSAP_FLUX`, `SAP_FLUX`, or `FLUX` columns\n",
    "2. Normalizing flux values for consistent analysis\n",
    "3. Extracting metadata from FITS headers\n",
    "4. Loading all FITS files in a directory with flexible column handling\n",
    "5. Comparing light curves from different data sources\n",
    "\n",
    "These utilities ensure our analysis can work with data from different telescopes and processing pipelines, regardless of the specific column naming used."
   ]
  }
 ],
 "metadata": {
  "language_info": {
   "name": "python"
  }
 },
 "nbformat": 4,
 "nbformat_minor": 5
}
