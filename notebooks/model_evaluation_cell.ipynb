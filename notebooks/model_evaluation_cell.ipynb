{
 "cells": [
  {
   "cell_type": "code",
   "execution_count": 1,
   "id": "77f821e3",
   "metadata": {},
   "outputs": [
    {
     "ename": "NameError",
     "evalue": "name 'pipe' is not defined",
     "output_type": "error",
     "traceback": [
      "\u001b[31m---------------------------------------------------------------------------\u001b[39m",
      "\u001b[31mNameError\u001b[39m                                 Traceback (most recent call last)",
      "\u001b[36mCell\u001b[39m\u001b[36m \u001b[39m\u001b[32mIn[1]\u001b[39m\u001b[32m, line 13\u001b[39m\n\u001b[32m      9\u001b[39m \u001b[38;5;28;01mfrom\u001b[39;00m\u001b[38;5;250m \u001b[39m\u001b[34;01mmodel_evaluation\u001b[39;00m\u001b[38;5;250m \u001b[39m\u001b[38;5;28;01mimport\u001b[39;00m (plot_feature_importances, plot_precision_recall, \n\u001b[32m     10\u001b[39m                              plot_roc_curve, plot_confusion_matrix)\n\u001b[32m     12\u001b[39m \u001b[38;5;66;03m# Get predicted probabilities\u001b[39;00m\n\u001b[32m---> \u001b[39m\u001b[32m13\u001b[39m y_scores = \u001b[43mpipe\u001b[49m.predict_proba(X_test)[:, \u001b[32m1\u001b[39m]\n\u001b[32m     15\u001b[39m \u001b[38;5;66;03m# Calculate and print key metrics\u001b[39;00m\n\u001b[32m     16\u001b[39m roc_auc = roc_auc_score(y_test, y_scores)\n",
      "\u001b[31mNameError\u001b[39m: name 'pipe' is not defined"
     ]
    }
   ],
   "source": [
    "# Add detailed model evaluation\n",
    "\n",
    "from sklearn.metrics import roc_auc_score, average_precision_score\n",
    "import sys\n",
    "import os\n",
    "\n",
    "# Add the parent directory to the path to find model_evaluation.py\n",
    "sys.path.append(os.path.dirname(os.getcwd()))\n",
    "from model_evaluation import (plot_feature_importances, plot_precision_recall, \n",
    "                             plot_roc_curve, plot_confusion_matrix)\n",
    "\n",
    "# Get predicted probabilities\n",
    "y_scores = pipe.predict_proba(X_test)[:, 1]\n",
    "\n",
    "# Calculate and print key metrics\n",
    "roc_auc = roc_auc_score(y_test, y_scores)\n",
    "avg_precision = average_precision_score(y_test, y_scores)\n",
    "\n",
    "print(f\"\\nAdditional metrics:\")\n",
    "print(f\"ROC AUC: {roc_auc:.4f}\")\n",
    "print(f\"Average Precision: {avg_precision:.4f}\")\n",
    "\n",
    "# Plot feature importances\n",
    "feature_names = [\"local_noise\", \"width\", \"symmetry\", \"local_slope\", \n",
    "                \"window_ratio\", \"snr\", \"best_power\"]\n",
    "plot_feature_importances(pipe.named_steps['clf'], feature_names)\n",
    "\n",
    "# Plot confusion matrix\n",
    "plot_confusion_matrix(y_test, y_pred)\n",
    "\n",
    "# Plot precision-recall curve\n",
    "plot_precision_recall(pipe, X_test, y_test)\n",
    "\n",
    "# Plot ROC curve\n",
    "plot_roc_curve(pipe, X_test, y_test)"
   ]
  }
 ],
 "metadata": {
  "kernelspec": {
   "display_name": ".venv",
   "language": "python",
   "name": "python3"
  },
  "language_info": {
   "codemirror_mode": {
    "name": "ipython",
    "version": 3
   },
   "file_extension": ".py",
   "mimetype": "text/x-python",
   "name": "python",
   "nbconvert_exporter": "python",
   "pygments_lexer": "ipython3",
   "version": "3.11.9"
  }
 },
 "nbformat": 4,
 "nbformat_minor": 5
}
