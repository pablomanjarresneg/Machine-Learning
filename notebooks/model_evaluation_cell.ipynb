{
 "cells": [
  {
   "cell_type": "code",
   "execution_count": null,
   "id": "77f821e3",
   "metadata": {},
   "outputs": [],
   "source": [
    "# Add detailed model evaluation\n",
    "\n",
    "from sklearn.metrics import roc_auc_score, average_precision_score\n",
    "import sys\n",
    "import os\n",
    "\n",
    "# Add the parent directory to the path to find model_evaluation.py\n",
    "sys.path.append(os.path.dirname(os.getcwd()))\n",
    "from model_evaluation import (plot_feature_importances, plot_precision_recall, \n",
    "                             plot_roc_curve, plot_confusion_matrix)\n",
    "\n",
    "# Get predicted probabilities\n",
    "y_scores = pipe.predict_proba(X_test)[:, 1]\n",
    "\n",
    "# Calculate and print key metrics\n",
    "roc_auc = roc_auc_score(y_test, y_scores)\n",
    "avg_precision = average_precision_score(y_test, y_scores)\n",
    "\n",
    "print(f\"\\nAdditional metrics:\")\n",
    "print(f\"ROC AUC: {roc_auc:.4f}\")\n",
    "print(f\"Average Precision: {avg_precision:.4f}\")\n",
    "\n",
    "# Plot feature importances\n",
    "feature_names = [\"local_noise\", \"width\", \"symmetry\", \"local_slope\", \n",
    "                \"window_ratio\", \"snr\", \"best_power\"]\n",
    "plot_feature_importances(pipe.named_steps['clf'], feature_names)\n",
    "\n",
    "# Plot confusion matrix\n",
    "plot_confusion_matrix(y_test, y_pred)\n",
    "\n",
    "# Plot precision-recall curve\n",
    "plot_precision_recall(pipe, X_test, y_test)\n",
    "\n",
    "# Plot ROC curve\n",
    "plot_roc_curve(pipe, X_test, y_test)"
   ]
  }
 ],
 "metadata": {
  "language_info": {
   "name": "python"
  }
 },
 "nbformat": 4,
 "nbformat_minor": 5
}
