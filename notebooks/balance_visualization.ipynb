{
 "cells": [
  {
   "cell_type": "code",
   "execution_count": 1,
   "id": "df63521f",
   "metadata": {},
   "outputs": [
    {
     "ename": "NameError",
     "evalue": "name 'df' is not defined",
     "output_type": "error",
     "traceback": [
      "\u001b[31m---------------------------------------------------------------------------\u001b[39m",
      "\u001b[31mNameError\u001b[39m                                 Traceback (most recent call last)",
      "\u001b[36mCell\u001b[39m\u001b[36m \u001b[39m\u001b[32mIn[1]\u001b[39m\u001b[32m, line 11\u001b[39m\n\u001b[32m      8\u001b[39m plt.figure(figsize=(\u001b[32m12\u001b[39m, \u001b[32m5\u001b[39m))\n\u001b[32m     10\u001b[39m plt.subplot(\u001b[32m1\u001b[39m, \u001b[32m2\u001b[39m, \u001b[32m1\u001b[39m)\n\u001b[32m---> \u001b[39m\u001b[32m11\u001b[39m class_counts = \u001b[43mdf\u001b[49m.label.value_counts()\n\u001b[32m     12\u001b[39m sns.barplot(x=class_counts.index.astype(\u001b[38;5;28mstr\u001b[39m), y=class_counts.values)\n\u001b[32m     13\u001b[39m plt.title(\u001b[33m\"\u001b[39m\u001b[33mClass Distribution in Full Dataset\u001b[39m\u001b[33m\"\u001b[39m)\n",
      "\u001b[31mNameError\u001b[39m: name 'df' is not defined"
     ]
    },
    {
     "data": {
      "image/png": "[encoded data removed]",
      "text/plain": [
       "<Figure size 1200x500 with 1 Axes>"
      ]
     },
     "metadata": {},
     "output_type": "display_data"
    }
   ],
   "source": [
    "# Let's visualize our class imbalance and model performance\n",
    "import matplotlib.pyplot as plt\n",
    "import numpy as np\n",
    "import seaborn as sns\n",
    "from sklearn.metrics import confusion_matrix\n",
    "\n",
    "# 1. Class Distribution Visualization\n",
    "plt.figure(figsize=(12, 5))\n",
    "\n",
    "plt.subplot(1, 2, 1)\n",
    "class_counts = df.label.value_counts()\n",
    "sns.barplot(x=class_counts.index.astype(str), y=class_counts.values)\n",
    "plt.title(\"Class Distribution in Full Dataset\")\n",
    "plt.xlabel(\"Class (0=Non-Transit, 1=Transit)\")\n",
    "plt.ylabel(\"Count\")\n",
    "\n",
    "for i, count in enumerate(class_counts.values):\n",
    "    plt.text(i, count+500, f\"{count}\", ha='center')\n",
    "\n",
    "# Add percentage labels\n",
    "total = sum(class_counts)\n",
    "for i, count in enumerate(class_counts.values):\n",
    "    percentage = count / total * 100\n",
    "    plt.text(i, count/2, f\"{percentage:.1f}%\", ha='center', color='white', fontweight='bold')\n",
    "\n",
    "# 2. Confusion Matrix with Normalization\n",
    "plt.subplot(1, 2, 2)\n",
    "cm = confusion_matrix(y_test, y_pred)\n",
    "cm_normalized = cm.astype('float') / cm.sum(axis=1)[:, np.newaxis]\n",
    "\n",
    "sns.heatmap(cm_normalized, annot=cm, fmt='d', cmap='Blues',\n",
    "            xticklabels=['Non-Transit', 'Transit'],\n",
    "            yticklabels=['Non-Transit', 'Transit'])\n",
    "plt.ylabel('True Label')\n",
    "plt.xlabel('Predicted Label')\n",
    "plt.title('Confusion Matrix')\n",
    "\n",
    "plt.tight_layout()\n",
    "plt.show()\n",
    "\n",
    "# 3. Feature Importance\n",
    "plt.figure(figsize=(10, 6))\n",
    "feature_names = [\"local_noise\", \"width\", \"symmetry\", \"local_slope\", \n",
    "                 \"window_ratio\", \"snr\", \"best_power\"]\n",
    "importances = pipe.named_steps['clf'].feature_importances_\n",
    "indices = np.argsort(importances)[::-1]\n",
    "\n",
    "plt.title('Feature Importances')\n",
    "plt.bar(range(len(importances)), importances[indices], align='center')\n",
    "plt.xticks(range(len(importances)), [feature_names[i] for i in indices], rotation=45)\n",
    "plt.tight_layout()\n",
    "plt.show()\n",
    "\n",
    "# 4. Print key ratios\n",
    "print(f\"Class imbalance ratio: 1:{class_counts[0]/class_counts[1]:.1f}\")\n",
    "print(f\"Percentage of transits: {class_counts[1]/total*100:.2f}%\")\n",
    "print(f\"True positive rate: {cm[1,1]/sum(cm[1,:]):.2f}\")\n",
    "print(f\"False positive rate: {cm[0,1]/sum(cm[0,:]):.4f}\")"
   ]
  }
 ],
 "metadata": {
  "kernelspec": {
   "display_name": ".venv",
   "language": "python",
   "name": "python3"
  },
  "language_info": {
   "codemirror_mode": {
    "name": "ipython",
    "version": 3
   },
   "file_extension": ".py",
   "mimetype": "text/x-python",
   "name": "python",
   "nbconvert_exporter": "python",
   "pygments_lexer": "ipython3",
   "version": "3.11.9"
  }
 },
 "nbformat": 4,
 "nbformat_minor": 5
}
